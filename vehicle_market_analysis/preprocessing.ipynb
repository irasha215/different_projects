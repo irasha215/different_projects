{
 "cells": [
  {
   "cell_type": "markdown",
   "id": "2799fd26",
   "metadata": {},
   "source": [
    "# Предобработка данных"
   ]
  },
  {
   "cell_type": "code",
   "execution_count": 1,
   "id": "578b3270",
   "metadata": {},
   "outputs": [],
   "source": [
    "import pandas as pd"
   ]
  },
  {
   "cell_type": "code",
   "execution_count": 2,
   "id": "594724c6",
   "metadata": {},
   "outputs": [],
   "source": [
    "data = pd.read_excel('/Users/air/Downloads/sales_data_sample.xlsx')"
   ]
  },
  {
   "cell_type": "code",
   "execution_count": 3,
   "id": "7f0c2796",
   "metadata": {
    "scrolled": true
   },
   "outputs": [
    {
     "data": {
      "text/html": [
       "<div>\n",
       "<style scoped>\n",
       "    .dataframe tbody tr th:only-of-type {\n",
       "        vertical-align: middle;\n",
       "    }\n",
       "\n",
       "    .dataframe tbody tr th {\n",
       "        vertical-align: top;\n",
       "    }\n",
       "\n",
       "    .dataframe thead th {\n",
       "        text-align: right;\n",
       "    }\n",
       "</style>\n",
       "<table border=\"1\" class=\"dataframe\">\n",
       "  <thead>\n",
       "    <tr style=\"text-align: right;\">\n",
       "      <th></th>\n",
       "      <th>ORDERNUMBER</th>\n",
       "      <th>QUANTITYORDERED</th>\n",
       "      <th>PRICEEACH</th>\n",
       "      <th>ORDERLINENUMBER</th>\n",
       "      <th>SALES</th>\n",
       "      <th>ORDERDATE</th>\n",
       "      <th>STATUS</th>\n",
       "      <th>QTR_ID</th>\n",
       "      <th>MONTH_ID</th>\n",
       "      <th>YEAR_ID</th>\n",
       "      <th>...</th>\n",
       "      <th>ADDRESSLINE1</th>\n",
       "      <th>ADDRESSLINE2</th>\n",
       "      <th>CITY</th>\n",
       "      <th>STATE</th>\n",
       "      <th>POSTALCODE</th>\n",
       "      <th>COUNTRY</th>\n",
       "      <th>TERRITORY</th>\n",
       "      <th>CONTACTLASTNAME</th>\n",
       "      <th>CONTACTFIRSTNAME</th>\n",
       "      <th>DEALSIZE</th>\n",
       "    </tr>\n",
       "  </thead>\n",
       "  <tbody>\n",
       "    <tr>\n",
       "      <th>0</th>\n",
       "      <td>10107.0</td>\n",
       "      <td>30.0</td>\n",
       "      <td>95.7</td>\n",
       "      <td>2.0</td>\n",
       "      <td>2871.0</td>\n",
       "      <td>2/24/2003 0:00</td>\n",
       "      <td>Shipped</td>\n",
       "      <td>1.0</td>\n",
       "      <td>2.0</td>\n",
       "      <td>2003.0</td>\n",
       "      <td>...</td>\n",
       "      <td>897 Long Airport Avenue</td>\n",
       "      <td>NaN</td>\n",
       "      <td>NYC</td>\n",
       "      <td>NY</td>\n",
       "      <td>10022.0</td>\n",
       "      <td>USA</td>\n",
       "      <td>NaN</td>\n",
       "      <td>Yu</td>\n",
       "      <td>Kwai</td>\n",
       "      <td>Small</td>\n",
       "    </tr>\n",
       "    <tr>\n",
       "      <th>1</th>\n",
       "      <td>10121.0</td>\n",
       "      <td>34.0</td>\n",
       "      <td>81.35</td>\n",
       "      <td>5.0</td>\n",
       "      <td>2765-09-01 00:00:00</td>\n",
       "      <td>2003-07-05 00:00:00</td>\n",
       "      <td>Shipped</td>\n",
       "      <td>2.0</td>\n",
       "      <td>5.0</td>\n",
       "      <td>2003.0</td>\n",
       "      <td>...</td>\n",
       "      <td>59 rue de l'Abbaye</td>\n",
       "      <td>NaN</td>\n",
       "      <td>Reims</td>\n",
       "      <td>NaN</td>\n",
       "      <td>51100.0</td>\n",
       "      <td>France</td>\n",
       "      <td>EMEA</td>\n",
       "      <td>Henriot</td>\n",
       "      <td>Paul</td>\n",
       "      <td>Small</td>\n",
       "    </tr>\n",
       "    <tr>\n",
       "      <th>2</th>\n",
       "      <td>10134.0</td>\n",
       "      <td>41.0</td>\n",
       "      <td>94.74</td>\n",
       "      <td>2.0</td>\n",
       "      <td>3884.34</td>\n",
       "      <td>2003-01-07 00:00:00</td>\n",
       "      <td>Shipped</td>\n",
       "      <td>3.0</td>\n",
       "      <td>7.0</td>\n",
       "      <td>2003.0</td>\n",
       "      <td>...</td>\n",
       "      <td>27 rue du Colonel Pierre Avia</td>\n",
       "      <td>NaN</td>\n",
       "      <td>Paris</td>\n",
       "      <td>NaN</td>\n",
       "      <td>75508.0</td>\n",
       "      <td>France</td>\n",
       "      <td>EMEA</td>\n",
       "      <td>Da Cunha</td>\n",
       "      <td>Daniel</td>\n",
       "      <td>Medium</td>\n",
       "    </tr>\n",
       "    <tr>\n",
       "      <th>3</th>\n",
       "      <td>10145.0</td>\n",
       "      <td>45.0</td>\n",
       "      <td>83.26</td>\n",
       "      <td>6.0</td>\n",
       "      <td>3746-07-01 00:00:00</td>\n",
       "      <td>8/25/2003 0:00</td>\n",
       "      <td>Shipped</td>\n",
       "      <td>3.0</td>\n",
       "      <td>8.0</td>\n",
       "      <td>2003.0</td>\n",
       "      <td>...</td>\n",
       "      <td>78934 Hillside Dr.</td>\n",
       "      <td>NaN</td>\n",
       "      <td>Pasadena</td>\n",
       "      <td>CA</td>\n",
       "      <td>90003.0</td>\n",
       "      <td>USA</td>\n",
       "      <td>NaN</td>\n",
       "      <td>Young</td>\n",
       "      <td>Julie</td>\n",
       "      <td>Medium</td>\n",
       "    </tr>\n",
       "    <tr>\n",
       "      <th>4</th>\n",
       "      <td>10159.0</td>\n",
       "      <td>49.0</td>\n",
       "      <td>100.0</td>\n",
       "      <td>14.0</td>\n",
       "      <td>5205.27</td>\n",
       "      <td>2003-10-10 00:00:00</td>\n",
       "      <td>Shipped</td>\n",
       "      <td>4.0</td>\n",
       "      <td>10.0</td>\n",
       "      <td>2003.0</td>\n",
       "      <td>...</td>\n",
       "      <td>7734 Strong St.</td>\n",
       "      <td>NaN</td>\n",
       "      <td>San Francisco</td>\n",
       "      <td>CA</td>\n",
       "      <td>NaN</td>\n",
       "      <td>USA</td>\n",
       "      <td>NaN</td>\n",
       "      <td>Brown</td>\n",
       "      <td>Julie</td>\n",
       "      <td>Medium</td>\n",
       "    </tr>\n",
       "  </tbody>\n",
       "</table>\n",
       "<p>5 rows × 25 columns</p>\n",
       "</div>"
      ],
      "text/plain": [
       "   ORDERNUMBER  QUANTITYORDERED PRICEEACH  ORDERLINENUMBER  \\\n",
       "0      10107.0             30.0      95.7              2.0   \n",
       "1      10121.0             34.0     81.35              5.0   \n",
       "2      10134.0             41.0     94.74              2.0   \n",
       "3      10145.0             45.0     83.26              6.0   \n",
       "4      10159.0             49.0     100.0             14.0   \n",
       "\n",
       "                 SALES            ORDERDATE   STATUS  QTR_ID  MONTH_ID  \\\n",
       "0               2871.0       2/24/2003 0:00  Shipped     1.0       2.0   \n",
       "1  2765-09-01 00:00:00  2003-07-05 00:00:00  Shipped     2.0       5.0   \n",
       "2              3884.34  2003-01-07 00:00:00  Shipped     3.0       7.0   \n",
       "3  3746-07-01 00:00:00       8/25/2003 0:00  Shipped     3.0       8.0   \n",
       "4              5205.27  2003-10-10 00:00:00  Shipped     4.0      10.0   \n",
       "\n",
       "   YEAR_ID  ...                   ADDRESSLINE1  ADDRESSLINE2           CITY  \\\n",
       "0   2003.0  ...        897 Long Airport Avenue           NaN            NYC   \n",
       "1   2003.0  ...             59 rue de l'Abbaye           NaN          Reims   \n",
       "2   2003.0  ...  27 rue du Colonel Pierre Avia           NaN          Paris   \n",
       "3   2003.0  ...             78934 Hillside Dr.           NaN       Pasadena   \n",
       "4   2003.0  ...                7734 Strong St.           NaN  San Francisco   \n",
       "\n",
       "  STATE POSTALCODE COUNTRY TERRITORY CONTACTLASTNAME CONTACTFIRSTNAME DEALSIZE  \n",
       "0    NY    10022.0     USA       NaN              Yu             Kwai    Small  \n",
       "1   NaN    51100.0  France      EMEA         Henriot             Paul    Small  \n",
       "2   NaN    75508.0  France      EMEA        Da Cunha           Daniel   Medium  \n",
       "3    CA    90003.0     USA       NaN           Young            Julie   Medium  \n",
       "4    CA        NaN     USA       NaN           Brown            Julie   Medium  \n",
       "\n",
       "[5 rows x 25 columns]"
      ]
     },
     "execution_count": 3,
     "metadata": {},
     "output_type": "execute_result"
    }
   ],
   "source": [
    "data.head()"
   ]
  },
  {
   "cell_type": "markdown",
   "id": "ff68b84a",
   "metadata": {},
   "source": [
    "Изменим для удобства названия столбцов на строчные буквы и разделим слова:"
   ]
  },
  {
   "cell_type": "code",
   "execution_count": 4,
   "id": "c851aeaa",
   "metadata": {},
   "outputs": [],
   "source": [
    "data.columns = data.columns.str.lower()"
   ]
  },
  {
   "cell_type": "code",
   "execution_count": 5,
   "id": "fa3be9b5",
   "metadata": {},
   "outputs": [
    {
     "data": {
      "text/plain": [
       "Index(['ordernumber', 'quantityordered', 'priceeach', 'orderlinenumber',\n",
       "       'sales', 'orderdate', 'status', 'qtr_id', 'month_id', 'year_id',\n",
       "       'productline', 'msrp', 'productcode', 'customername', 'phone',\n",
       "       'addressline1', 'addressline2', 'city', 'state', 'postalcode',\n",
       "       'country', 'territory', 'contactlastname', 'contactfirstname',\n",
       "       'dealsize'],\n",
       "      dtype='object')"
      ]
     },
     "execution_count": 5,
     "metadata": {},
     "output_type": "execute_result"
    }
   ],
   "source": [
    "data.columns"
   ]
  },
  {
   "cell_type": "code",
   "execution_count": 6,
   "id": "d1c8b8b7",
   "metadata": {},
   "outputs": [],
   "source": [
    "data.columns = ['order_number', 'quantity_ordered', 'price_each', 'order_line_number', 'sales', 'order_date', 'status','qtr_id', 'month_id', 'year_id', 'product_line', 'msrp', 'product_code', 'customer_name', 'phone', 'adress_line_1', 'adress_line_2', 'city', 'state', 'postal_code', 'country', 'territory', 'contact_lastname', 'contact_firstname', 'deal_size']\n",
    "\n"
   ]
  },
  {
   "cell_type": "markdown",
   "id": "f18b70e7",
   "metadata": {},
   "source": [
    "---"
   ]
  },
  {
   "cell_type": "markdown",
   "id": "f11ae360",
   "metadata": {},
   "source": [
    "## Преобразование типов данных"
   ]
  },
  {
   "cell_type": "code",
   "execution_count": 7,
   "id": "9a1cb049",
   "metadata": {},
   "outputs": [
    {
     "name": "stdout",
     "output_type": "stream",
     "text": [
      "<class 'pandas.core.frame.DataFrame'>\n",
      "RangeIndex: 2823 entries, 0 to 2822\n",
      "Data columns (total 25 columns):\n",
      " #   Column             Non-Null Count  Dtype  \n",
      "---  ------             --------------  -----  \n",
      " 0   order_number       2823 non-null   float64\n",
      " 1   quantity_ordered   2823 non-null   float64\n",
      " 2   price_each         2823 non-null   object \n",
      " 3   order_line_number  2823 non-null   float64\n",
      " 4   sales              2823 non-null   object \n",
      " 5   order_date         2823 non-null   object \n",
      " 6   status             2823 non-null   object \n",
      " 7   qtr_id             2823 non-null   float64\n",
      " 8   month_id           2823 non-null   float64\n",
      " 9   year_id            2823 non-null   float64\n",
      " 10  product_line       2823 non-null   object \n",
      " 11  msrp               2823 non-null   float64\n",
      " 12  product_code       2823 non-null   object \n",
      " 13  customer_name      2823 non-null   object \n",
      " 14  phone              2823 non-null   object \n",
      " 15  adress_line_1      2823 non-null   object \n",
      " 16  adress_line_2      302 non-null    object \n",
      " 17  city               2823 non-null   object \n",
      " 18  state              1337 non-null   object \n",
      " 19  postal_code        2747 non-null   object \n",
      " 20  country            2823 non-null   object \n",
      " 21  territory          1749 non-null   object \n",
      " 22  contact_lastname   2823 non-null   object \n",
      " 23  contact_firstname  2823 non-null   object \n",
      " 24  deal_size          2823 non-null   object \n",
      "dtypes: float64(7), object(18)\n",
      "memory usage: 551.5+ KB\n"
     ]
    }
   ],
   "source": [
    "data.info()"
   ]
  },
  {
   "cell_type": "markdown",
   "id": "ba84736f",
   "metadata": {},
   "source": [
    "**Изменим тип данных на целочисленный:**"
   ]
  },
  {
   "cell_type": "code",
   "execution_count": 8,
   "id": "76122f36",
   "metadata": {},
   "outputs": [],
   "source": [
    "for el in ['order_number', 'quantity_ordered', 'order_line_number', 'qtr_id', 'month_id', 'year_id']:\n",
    "    data[el] = data[el].astype('int')"
   ]
  },
  {
   "cell_type": "markdown",
   "id": "90c726fe",
   "metadata": {},
   "source": [
    "**В столбце 'price_each' изменим тип данных на вещественный:**\n",
    "\n",
    "*У меня возникли трудности некоторыми строками, например, 1717. Посмотрим, что не так:*"
   ]
  },
  {
   "cell_type": "code",
   "execution_count": 9,
   "id": "ac60c4a2",
   "metadata": {},
   "outputs": [
    {
     "data": {
      "text/plain": [
       "order_number                             10114\n",
       "quantity_ordered                            24\n",
       "price_each                 2022-06-30 00:00:00\n",
       "order_line_number                            1\n",
       "sales                                   721.44\n",
       "order_date                 2003-01-04 00:00:00\n",
       "status                                 Shipped\n",
       "qtr_id                                       2\n",
       "month_id                                     4\n",
       "year_id                                   2003\n",
       "product_line                      Classic Cars\n",
       "msrp                                      35.0\n",
       "product_code                          S24_2840\n",
       "customer_name        La Corne D'abondance, Co.\n",
       "phone                           (1) 42.34.2555\n",
       "adress_line_1          265, boulevard Charonne\n",
       "adress_line_2                              NaN\n",
       "city                                     Paris\n",
       "state                                      NaN\n",
       "postal_code                            75012.0\n",
       "country                                 France\n",
       "territory                                 EMEA\n",
       "contact_lastname                      Bertrand\n",
       "contact_firstname                        Marie\n",
       "deal_size                                Small\n",
       "Name: 1717, dtype: object"
      ]
     },
     "execution_count": 9,
     "metadata": {},
     "output_type": "execute_result"
    }
   ],
   "source": [
    "data.iloc[1717]"
   ]
  },
  {
   "cell_type": "markdown",
   "id": "7a3f662d",
   "metadata": {},
   "source": [
    "В строке со стоимостью товара указана дата(в других строках аналогичная проблема). Заменим значения в этих строках пропусками:"
   ]
  },
  {
   "cell_type": "code",
   "execution_count": 10,
   "id": "5cde72e2",
   "metadata": {},
   "outputs": [
    {
     "data": {
      "text/html": [
       "<div>\n",
       "<style scoped>\n",
       "    .dataframe tbody tr th:only-of-type {\n",
       "        vertical-align: middle;\n",
       "    }\n",
       "\n",
       "    .dataframe tbody tr th {\n",
       "        vertical-align: top;\n",
       "    }\n",
       "\n",
       "    .dataframe thead th {\n",
       "        text-align: right;\n",
       "    }\n",
       "</style>\n",
       "<table border=\"1\" class=\"dataframe\">\n",
       "  <thead>\n",
       "    <tr style=\"text-align: right;\">\n",
       "      <th></th>\n",
       "      <th>order_number</th>\n",
       "      <th>quantity_ordered</th>\n",
       "      <th>price_each</th>\n",
       "      <th>order_line_number</th>\n",
       "      <th>sales</th>\n",
       "      <th>order_date</th>\n",
       "      <th>status</th>\n",
       "      <th>qtr_id</th>\n",
       "      <th>month_id</th>\n",
       "      <th>year_id</th>\n",
       "      <th>...</th>\n",
       "      <th>adress_line_1</th>\n",
       "      <th>adress_line_2</th>\n",
       "      <th>city</th>\n",
       "      <th>state</th>\n",
       "      <th>postal_code</th>\n",
       "      <th>country</th>\n",
       "      <th>territory</th>\n",
       "      <th>contact_lastname</th>\n",
       "      <th>contact_firstname</th>\n",
       "      <th>deal_size</th>\n",
       "    </tr>\n",
       "  </thead>\n",
       "  <tbody>\n",
       "    <tr>\n",
       "      <th>1717</th>\n",
       "      <td>10114</td>\n",
       "      <td>24</td>\n",
       "      <td>NaN</td>\n",
       "      <td>1</td>\n",
       "      <td>721.44</td>\n",
       "      <td>2003-01-04 00:00:00</td>\n",
       "      <td>Shipped</td>\n",
       "      <td>2</td>\n",
       "      <td>4</td>\n",
       "      <td>2003</td>\n",
       "      <td>...</td>\n",
       "      <td>265, boulevard Charonne</td>\n",
       "      <td>NaN</td>\n",
       "      <td>Paris</td>\n",
       "      <td>NaN</td>\n",
       "      <td>75012.0</td>\n",
       "      <td>France</td>\n",
       "      <td>EMEA</td>\n",
       "      <td>Bertrand</td>\n",
       "      <td>Marie</td>\n",
       "      <td>Small</td>\n",
       "    </tr>\n",
       "    <tr>\n",
       "      <th>1722</th>\n",
       "      <td>10175</td>\n",
       "      <td>37</td>\n",
       "      <td>NaN</td>\n",
       "      <td>2</td>\n",
       "      <td>1151.44</td>\n",
       "      <td>2003-06-11 00:00:00</td>\n",
       "      <td>Shipped</td>\n",
       "      <td>4</td>\n",
       "      <td>11</td>\n",
       "      <td>2003</td>\n",
       "      <td>...</td>\n",
       "      <td>35 King George</td>\n",
       "      <td>NaN</td>\n",
       "      <td>London</td>\n",
       "      <td>NaN</td>\n",
       "      <td>WX3 6FW</td>\n",
       "      <td>UK</td>\n",
       "      <td>EMEA</td>\n",
       "      <td>Brown</td>\n",
       "      <td>Ann</td>\n",
       "      <td>Small</td>\n",
       "    </tr>\n",
       "    <tr>\n",
       "      <th>1725</th>\n",
       "      <td>10207</td>\n",
       "      <td>42</td>\n",
       "      <td>NaN</td>\n",
       "      <td>8</td>\n",
       "      <td>1247.4</td>\n",
       "      <td>2003-09-12 00:00:00</td>\n",
       "      <td>Shipped</td>\n",
       "      <td>4</td>\n",
       "      <td>12</td>\n",
       "      <td>2003</td>\n",
       "      <td>...</td>\n",
       "      <td>6251 Ingle Ln.</td>\n",
       "      <td>NaN</td>\n",
       "      <td>Boston</td>\n",
       "      <td>MA</td>\n",
       "      <td>51003.0</td>\n",
       "      <td>USA</td>\n",
       "      <td>NaN</td>\n",
       "      <td>Franco</td>\n",
       "      <td>Valarie</td>\n",
       "      <td>Small</td>\n",
       "    </tr>\n",
       "    <tr>\n",
       "      <th>1732</th>\n",
       "      <td>10292</td>\n",
       "      <td>39</td>\n",
       "      <td>NaN</td>\n",
       "      <td>9</td>\n",
       "      <td>1172.34</td>\n",
       "      <td>2004-08-09 00:00:00</td>\n",
       "      <td>Shipped</td>\n",
       "      <td>3</td>\n",
       "      <td>9</td>\n",
       "      <td>2004</td>\n",
       "      <td>...</td>\n",
       "      <td>897 Long Airport Avenue</td>\n",
       "      <td>NaN</td>\n",
       "      <td>NYC</td>\n",
       "      <td>NY</td>\n",
       "      <td>10022.0</td>\n",
       "      <td>USA</td>\n",
       "      <td>NaN</td>\n",
       "      <td>Yu</td>\n",
       "      <td>Kwai</td>\n",
       "      <td>Small</td>\n",
       "    </tr>\n",
       "  </tbody>\n",
       "</table>\n",
       "<p>4 rows × 25 columns</p>\n",
       "</div>"
      ],
      "text/plain": [
       "      order_number  quantity_ordered  price_each  order_line_number    sales  \\\n",
       "1717         10114                24         NaN                  1   721.44   \n",
       "1722         10175                37         NaN                  2  1151.44   \n",
       "1725         10207                42         NaN                  8   1247.4   \n",
       "1732         10292                39         NaN                  9  1172.34   \n",
       "\n",
       "               order_date   status  qtr_id  month_id  year_id  ...  \\\n",
       "1717  2003-01-04 00:00:00  Shipped       2         4     2003  ...   \n",
       "1722  2003-06-11 00:00:00  Shipped       4        11     2003  ...   \n",
       "1725  2003-09-12 00:00:00  Shipped       4        12     2003  ...   \n",
       "1732  2004-08-09 00:00:00  Shipped       3         9     2004  ...   \n",
       "\n",
       "                adress_line_1  adress_line_2    city state postal_code  \\\n",
       "1717  265, boulevard Charonne            NaN   Paris   NaN     75012.0   \n",
       "1722           35 King George            NaN  London   NaN     WX3 6FW   \n",
       "1725           6251 Ingle Ln.            NaN  Boston    MA     51003.0   \n",
       "1732  897 Long Airport Avenue            NaN     NYC    NY     10022.0   \n",
       "\n",
       "     country territory contact_lastname contact_firstname deal_size  \n",
       "1717  France      EMEA         Bertrand             Marie     Small  \n",
       "1722      UK      EMEA            Brown               Ann     Small  \n",
       "1725     USA       NaN           Franco           Valarie     Small  \n",
       "1732     USA       NaN               Yu              Kwai     Small  \n",
       "\n",
       "[4 rows x 25 columns]"
      ]
     },
     "execution_count": 10,
     "metadata": {},
     "output_type": "execute_result"
    }
   ],
   "source": [
    "data['price_each'] = pd.to_numeric(data['price_each'], errors='coerce')\n",
    "\n",
    "# Выведем данные строки на экран\n",
    "data[data['price_each'].isna()]"
   ]
  },
  {
   "cell_type": "markdown",
   "id": "e038d58c",
   "metadata": {},
   "source": [
    "Пропуски у нас только в четырех строках. Как мы знаем, стоимость одной единицы товара('price_each') = сумма продажи('sales') / количество товара('quantity_ordered'). Таким образом, мы легко можем вычислить данные значения"
   ]
  },
  {
   "cell_type": "code",
   "execution_count": 11,
   "id": "7df3217d",
   "metadata": {},
   "outputs": [],
   "source": [
    "for num in [1717, 1722, 1725, 1732]:\n",
    "    data.loc[num, 'price_each'] = pd.to_numeric(data.loc[num, 'sales']) / data.loc[num, 'quantity_ordered']"
   ]
  },
  {
   "cell_type": "markdown",
   "id": "f5a8d6c7",
   "metadata": {},
   "source": [
    "**Изменим тип данных на вещественный в столбце с суммой заказа('sales'):**\n",
    "\n",
    "*В данном столбце мы встречаемся с аналогичной проблемой: в некоторых строках указана дата вместо значения.*"
   ]
  },
  {
   "cell_type": "markdown",
   "id": "8befc959",
   "metadata": {},
   "source": [
    "Заменим значения, в которых указаны неправильные данные, пропусками:"
   ]
  },
  {
   "cell_type": "code",
   "execution_count": 12,
   "id": "a547f1b0",
   "metadata": {},
   "outputs": [
    {
     "data": {
      "text/plain": [
       "737"
      ]
     },
     "execution_count": 12,
     "metadata": {},
     "output_type": "execute_result"
    }
   ],
   "source": [
    "data['sales'] = pd.to_numeric(data['sales'], errors='coerce')\n",
    "data['sales'].isna().sum()"
   ]
  },
  {
   "cell_type": "markdown",
   "id": "366875ce",
   "metadata": {},
   "source": [
    "Сумма заказа('sales') = Строимость одного товара('price_each') * количество товаров('quantity_ordered'). Вычислим данные значения:"
   ]
  },
  {
   "cell_type": "code",
   "execution_count": 13,
   "id": "df40ad70",
   "metadata": {},
   "outputs": [],
   "source": [
    "data.loc[data['sales'].isna(), 'sales'] = data['price_each'] * data['quantity_ordered']"
   ]
  },
  {
   "cell_type": "code",
   "execution_count": 14,
   "id": "18239ece",
   "metadata": {},
   "outputs": [
    {
     "name": "stdout",
     "output_type": "stream",
     "text": [
      "<class 'pandas.core.frame.DataFrame'>\n",
      "RangeIndex: 2823 entries, 0 to 2822\n",
      "Data columns (total 25 columns):\n",
      " #   Column             Non-Null Count  Dtype  \n",
      "---  ------             --------------  -----  \n",
      " 0   order_number       2823 non-null   int64  \n",
      " 1   quantity_ordered   2823 non-null   int64  \n",
      " 2   price_each         2823 non-null   float64\n",
      " 3   order_line_number  2823 non-null   int64  \n",
      " 4   sales              2823 non-null   float64\n",
      " 5   order_date         2823 non-null   object \n",
      " 6   status             2823 non-null   object \n",
      " 7   qtr_id             2823 non-null   int64  \n",
      " 8   month_id           2823 non-null   int64  \n",
      " 9   year_id            2823 non-null   int64  \n",
      " 10  product_line       2823 non-null   object \n",
      " 11  msrp               2823 non-null   float64\n",
      " 12  product_code       2823 non-null   object \n",
      " 13  customer_name      2823 non-null   object \n",
      " 14  phone              2823 non-null   object \n",
      " 15  adress_line_1      2823 non-null   object \n",
      " 16  adress_line_2      302 non-null    object \n",
      " 17  city               2823 non-null   object \n",
      " 18  state              1337 non-null   object \n",
      " 19  postal_code        2747 non-null   object \n",
      " 20  country            2823 non-null   object \n",
      " 21  territory          1749 non-null   object \n",
      " 22  contact_lastname   2823 non-null   object \n",
      " 23  contact_firstname  2823 non-null   object \n",
      " 24  deal_size          2823 non-null   object \n",
      "dtypes: float64(3), int64(6), object(16)\n",
      "memory usage: 551.5+ KB\n"
     ]
    }
   ],
   "source": [
    "data.info()"
   ]
  },
  {
   "cell_type": "markdown",
   "id": "09bb4ce3",
   "metadata": {},
   "source": [
    "**Приведем столбец с датой к формату datetime:**"
   ]
  },
  {
   "cell_type": "code",
   "execution_count": 15,
   "id": "fdf8e5b3",
   "metadata": {},
   "outputs": [],
   "source": [
    "data.order_date = pd.to_datetime(data.order_date)"
   ]
  },
  {
   "cell_type": "markdown",
   "id": "a5d8ad5f",
   "metadata": {},
   "source": [
    "**Надем начало и конец исследования:**"
   ]
  },
  {
   "cell_type": "code",
   "execution_count": 16,
   "id": "a66213f5",
   "metadata": {},
   "outputs": [
    {
     "data": {
      "text/plain": [
       "Timestamp('2003-01-04 00:00:00')"
      ]
     },
     "execution_count": 16,
     "metadata": {},
     "output_type": "execute_result"
    }
   ],
   "source": [
    "data.order_date.min()"
   ]
  },
  {
   "cell_type": "code",
   "execution_count": 17,
   "id": "2f8dba25",
   "metadata": {
    "scrolled": true
   },
   "outputs": [
    {
     "data": {
      "text/plain": [
       "Timestamp('2005-12-01 00:00:00')"
      ]
     },
     "execution_count": 17,
     "metadata": {},
     "output_type": "execute_result"
    }
   ],
   "source": [
    "data.order_date.max()"
   ]
  },
  {
   "cell_type": "markdown",
   "id": "3b00a059",
   "metadata": {},
   "source": [
    "**Проверим на наличие дубликатов:**"
   ]
  },
  {
   "cell_type": "code",
   "execution_count": 18,
   "id": "ec86295d",
   "metadata": {},
   "outputs": [
    {
     "data": {
      "text/plain": [
       "0"
      ]
     },
     "execution_count": 18,
     "metadata": {},
     "output_type": "execute_result"
    }
   ],
   "source": [
    "data.duplicated().sum()"
   ]
  },
  {
   "cell_type": "markdown",
   "id": "a4ae8a97",
   "metadata": {},
   "source": [
    "---"
   ]
  },
  {
   "cell_type": "markdown",
   "id": "a2cc1520",
   "metadata": {},
   "source": [
    "## Обработка пропусков"
   ]
  },
  {
   "cell_type": "markdown",
   "id": "46e2a720",
   "metadata": {},
   "source": [
    "В данных есть пропуски в столбцах 'adress_line_2', 'state', 'postal_code' и 'territory'. Предположительно это не является проблемой с выгрузкой.\n",
    "\n",
    " - 'adress_line_2' - это дополнительный адрес, который указывается опционально(предположение)\n",
    " - 'state' заполнены только для USA"
   ]
  },
  {
   "cell_type": "code",
   "execution_count": 19,
   "id": "3dd63d85",
   "metadata": {},
   "outputs": [
    {
     "data": {
      "text/html": [
       "<div>\n",
       "<style scoped>\n",
       "    .dataframe tbody tr th:only-of-type {\n",
       "        vertical-align: middle;\n",
       "    }\n",
       "\n",
       "    .dataframe tbody tr th {\n",
       "        vertical-align: top;\n",
       "    }\n",
       "\n",
       "    .dataframe thead th {\n",
       "        text-align: right;\n",
       "    }\n",
       "</style>\n",
       "<table border=\"1\" class=\"dataframe\">\n",
       "  <thead>\n",
       "    <tr style=\"text-align: right;\">\n",
       "      <th></th>\n",
       "      <th>order_number</th>\n",
       "    </tr>\n",
       "    <tr>\n",
       "      <th>country</th>\n",
       "      <th></th>\n",
       "    </tr>\n",
       "  </thead>\n",
       "  <tbody>\n",
       "    <tr>\n",
       "      <th>USA</th>\n",
       "      <td>76</td>\n",
       "    </tr>\n",
       "  </tbody>\n",
       "</table>\n",
       "</div>"
      ],
      "text/plain": [
       "         order_number\n",
       "country              \n",
       "USA                76"
      ]
     },
     "execution_count": 19,
     "metadata": {},
     "output_type": "execute_result"
    }
   ],
   "source": [
    "null_postal_code = data[data['postal_code'].isna()]\n",
    "null_postal_code.groupby('country').agg({'order_number':'count'})"
   ]
  },
  {
   "cell_type": "markdown",
   "id": "a99779db",
   "metadata": {},
   "source": [
    "Все пропущенные значения с почтовым индексом('postal_code') в заказах из США. Возможно это связано со спецификой адресов в стране. В любом случае, эти данные не являются необходимыми для исследования.\n",
    "\n",
    "\n",
    "Посмотрим пропущенные значения по региону:"
   ]
  },
  {
   "cell_type": "code",
   "execution_count": 20,
   "id": "a846335e",
   "metadata": {},
   "outputs": [
    {
     "data": {
      "text/html": [
       "<div>\n",
       "<style scoped>\n",
       "    .dataframe tbody tr th:only-of-type {\n",
       "        vertical-align: middle;\n",
       "    }\n",
       "\n",
       "    .dataframe tbody tr th {\n",
       "        vertical-align: top;\n",
       "    }\n",
       "\n",
       "    .dataframe thead th {\n",
       "        text-align: right;\n",
       "    }\n",
       "</style>\n",
       "<table border=\"1\" class=\"dataframe\">\n",
       "  <thead>\n",
       "    <tr style=\"text-align: right;\">\n",
       "      <th></th>\n",
       "      <th>order_number</th>\n",
       "    </tr>\n",
       "    <tr>\n",
       "      <th>country</th>\n",
       "      <th></th>\n",
       "    </tr>\n",
       "  </thead>\n",
       "  <tbody>\n",
       "    <tr>\n",
       "      <th>Canada</th>\n",
       "      <td>70</td>\n",
       "    </tr>\n",
       "    <tr>\n",
       "      <th>USA</th>\n",
       "      <td>1004</td>\n",
       "    </tr>\n",
       "  </tbody>\n",
       "</table>\n",
       "</div>"
      ],
      "text/plain": [
       "         order_number\n",
       "country              \n",
       "Canada             70\n",
       "USA              1004"
      ]
     },
     "execution_count": 20,
     "metadata": {},
     "output_type": "execute_result"
    }
   ],
   "source": [
    "null_territory = data[data['territory'].isna()]\n",
    "null_territory.groupby('country').agg({'order_number':'count'})"
   ]
  },
  {
   "cell_type": "code",
   "execution_count": 21,
   "id": "a625860e",
   "metadata": {
    "scrolled": true
   },
   "outputs": [
    {
     "data": {
      "text/plain": [
       "array([nan, 'EMEA', 'APAC', 'Japan'], dtype=object)"
      ]
     },
     "execution_count": 21,
     "metadata": {},
     "output_type": "execute_result"
    }
   ],
   "source": [
    "data.territory.unique()"
   ]
  },
  {
   "cell_type": "markdown",
   "id": "9b0bfc67",
   "metadata": {},
   "source": [
    "Пропущенные значения в столбце с регионом относятся к Канаде и США. EMEA и APAC - это обозначения экономических регионов Европы, Ближнего Востока и Африки и Азиатско-Тихоокеанского региона. США и Канада относятся к Северо-Американскому региону, поэтому мы можем заменить пропуски в данном столбце обозначением 'NA'(North-America)\n",
    "\n",
    "\n",
    "\n",
    "\n",
    "\n",
    "*information from https://help.adjust.com/en/article/countries-by-region*\n"
   ]
  },
  {
   "cell_type": "code",
   "execution_count": 22,
   "id": "7f2d4cd8",
   "metadata": {},
   "outputs": [],
   "source": [
    "data.territory = data.territory.fillna('NA')"
   ]
  },
  {
   "cell_type": "markdown",
   "id": "c9482190",
   "metadata": {},
   "source": [
    "В данном случае вопрос вызывает регион 'Japan', потому что Япония относится к региону APAC и не выделяется в отдельный регион."
   ]
  },
  {
   "cell_type": "code",
   "execution_count": 23,
   "id": "96f0c454",
   "metadata": {},
   "outputs": [
    {
     "data": {
      "text/plain": [
       "array(['Singapore', 'Japan', 'Philippines'], dtype=object)"
      ]
     },
     "execution_count": 23,
     "metadata": {},
     "output_type": "execute_result"
    }
   ],
   "source": [
    "jp = data[data['territory'] == 'Japan']\n",
    "jp.country.unique()"
   ]
  },
  {
   "cell_type": "markdown",
   "id": "d88e128a",
   "metadata": {},
   "source": [
    "На самом деле, все эти три страны относятся к Азиатско-Тихоокеанскому региону, не совсем понятно, по какому принципу они были отнесены к Японии. Для четкости структуры и правильному вычислению статистики по регионам я отнесу эти страны к региону APAC."
   ]
  },
  {
   "cell_type": "code",
   "execution_count": 24,
   "id": "0ba9e10a",
   "metadata": {},
   "outputs": [],
   "source": [
    "for element in ['Singapore', 'Japan', 'Philippines']:\n",
    "    data.loc[data['country'] == element, 'territory'] = 'APAC'"
   ]
  },
  {
   "cell_type": "code",
   "execution_count": 25,
   "id": "0cd84822",
   "metadata": {},
   "outputs": [
    {
     "data": {
      "text/plain": [
       "array(['NA', 'EMEA', 'APAC'], dtype=object)"
      ]
     },
     "execution_count": 25,
     "metadata": {},
     "output_type": "execute_result"
    }
   ],
   "source": [
    "data.territory.unique()"
   ]
  },
  {
   "cell_type": "markdown",
   "id": "c22e38a5",
   "metadata": {},
   "source": [
    "## Вывод:"
   ]
  },
  {
   "cell_type": "markdown",
   "id": "7358450e",
   "metadata": {},
   "source": [
    " - В ходе предобработки данных для удобства анализа были изменены названия столбцов(регистр и разделения на слова).\n",
    " - Были преобразованы типы данных, необходимые данные были вычислены.\n",
    " - Дубликатов в данных не обнаружено.\n",
    " - Были заполнены некоторые пропуски(столбец 'territory'), пропуски в других столбцах не влияют на анализ, поэтому были оставлены без изменений."
   ]
  },
  {
   "cell_type": "code",
   "execution_count": 387,
   "id": "e23da15f",
   "metadata": {},
   "outputs": [],
   "source": [
    "data.to_csv('/Users/air/Downloads/data.csv')"
   ]
  }
 ],
 "metadata": {
  "kernelspec": {
   "display_name": "Python 3 (ipykernel)",
   "language": "python",
   "name": "python3"
  },
  "language_info": {
   "codemirror_mode": {
    "name": "ipython",
    "version": 3
   },
   "file_extension": ".py",
   "mimetype": "text/x-python",
   "name": "python",
   "nbconvert_exporter": "python",
   "pygments_lexer": "ipython3",
   "version": "3.9.7"
  },
  "toc": {
   "base_numbering": 1,
   "nav_menu": {},
   "number_sections": true,
   "sideBar": true,
   "skip_h1_title": false,
   "title_cell": "Table of Contents",
   "title_sidebar": "Contents",
   "toc_cell": false,
   "toc_position": {},
   "toc_section_display": true,
   "toc_window_display": false
  }
 },
 "nbformat": 4,
 "nbformat_minor": 5
}
